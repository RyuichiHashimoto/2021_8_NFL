{
 "cells": [
  {
   "cell_type": "markdown",
   "metadata": {},
   "source": [
    "## This notebook\n",
    "\n",
    "This notebook is based on [NFL Baseline - Simple Helmet Mapping](https://www.kaggle.com/its7171/nfl-baseline-simple-helmet-mapping) by [tito](https://www.kaggle.com/its7171).  \n",
    "\n",
    "The major change is to select trackings according to the number of helmets.  \n",
    "In tito's notebook, itertools.combinations was used to randomly select what not to use. There are some combinations that cannot be verified with this method. Another problem is that there is a trade-off between execution speed and accuracy.\n",
    "\n",
    "In this implementation, the distance is measured between each player and the player with the close distance is selected. This probably improved the execution speed (The speed is almost 28 times faster!).\n",
    "\n",
    "The reason why I decided on this idea is because I thought that what would fit in the picture would be a close distance between the players, and players who are far apart would not be captured in the first place. The implementation itself uses sklearn.neighbors.KDTree, but since this is the first time I have used it, there may be other better ways to handle it.\n",
    "\n",
    "There are also some minor changes, such as using scipy.optimize.minimize_scalar to search for DIG, and the normalize_arr function is different.  \n",
    "\n",
    "But I haven't tested which process is better, so if anyone has, I'd appreciate it if you'd share!\n",
    "If you have any questions or suggestions for improvement, please comment.\n",
    "\n",
    "## Reference\n",
    "\n",
    "* [NFL Baseline - Simple Helmet Mapping](https://www.kaggle.com/its7171/nfl-baseline-simple-helmet-mapping) by [tito](https://www.kaggle.com/its7171).  \n",
    "* [Helper Code + Helmet Mapping + Deepsort](https://www.kaggle.com/robikscube/helper-code-helmet-mapping-deepsort) by [\n",
    "Rob Mulla](https://www.kaggle.com/robikscube)"
   ]
  },
  {
   "cell_type": "markdown",
   "metadata": {},
   "source": [
    "## IMPORT MODULE & CONFIG"
   ]
  },
  {
   "cell_type": "code",
   "execution_count": 1,
   "metadata": {
    "execution": {
     "iopub.execute_input": "2021-08-30T13:40:34.690864Z",
     "iopub.status.busy": "2021-08-30T13:40:34.690285Z",
     "iopub.status.idle": "2021-08-30T13:40:36.356573Z",
     "shell.execute_reply": "2021-08-30T13:40:36.355621Z",
     "shell.execute_reply.started": "2021-08-30T13:40:34.690774Z"
    }
   },
   "outputs": [],
   "source": [
    "import os\n",
    "import sys\n",
    "import random\n",
    "import warnings\n",
    "warnings.filterwarnings('ignore')\n",
    "\n",
    "import numpy as np\n",
    "import pandas as pd\n",
    "import matplotlib.pyplot as plt\n",
    "import seaborn as sns\n",
    "\n",
    "import cv2\n",
    "import itertools\n",
    "from pathlib import Path\n",
    "from glob import glob\n",
    "from tqdm.notebook import tqdm\n",
    "from multiprocessing import Pool\n",
    "\n",
    "from scipy.optimize import minimize, minimize_scalar\n",
    "from sklearn.metrics import accuracy_score\n",
    "from sklearn.neighbors import KDTree"
   ]
  },
  {
   "cell_type": "code",
   "execution_count": 3,
   "metadata": {
    "_cell_guid": "b1076dfc-b9ad-4769-8c92-a6c4dae69d19",
    "_uuid": "8f2839f25d086af736a60e9eeb907d3b93b6e0e5",
    "execution": {
     "iopub.execute_input": "2021-08-30T13:40:36.358246Z",
     "iopub.status.busy": "2021-08-30T13:40:36.357808Z",
     "iopub.status.idle": "2021-08-30T13:41:07.335924Z",
     "shell.execute_reply": "2021-08-30T13:41:07.334398Z",
     "shell.execute_reply.started": "2021-08-30T13:40:36.358213Z"
    }
   },
   "outputs": [],
   "source": [
    "from external_lib.NFLlib.score import NFLAssignmentScorer, check_submission\n",
    "from external_lib.NFLlib.features import add_track_features\n"
   ]
  },
  {
   "cell_type": "code",
   "execution_count": 4,
   "metadata": {
    "execution": {
     "iopub.execute_input": "2021-08-30T13:41:07.339387Z",
     "iopub.status.busy": "2021-08-30T13:41:07.338875Z",
     "iopub.status.idle": "2021-08-30T13:41:07.344483Z",
     "shell.execute_reply": "2021-08-30T13:41:07.343392Z",
     "shell.execute_reply.started": "2021-08-30T13:41:07.339329Z"
    }
   },
   "outputs": [],
   "source": [
    "# Config\n",
    "SEED = 42\n",
    "CONF_THRE = 0.30\n",
    "DIG_MAX = 30"
   ]
  },
  {
   "cell_type": "markdown",
   "metadata": {},
   "source": [
    "## MAIN"
   ]
  },
  {
   "cell_type": "code",
   "execution_count": 6,
   "metadata": {
    "execution": {
     "iopub.execute_input": "2021-08-30T13:41:07.346509Z",
     "iopub.status.busy": "2021-08-30T13:41:07.346129Z",
     "iopub.status.idle": "2021-08-30T13:41:28.218841Z",
     "shell.execute_reply": "2021-08-30T13:41:28.217457Z",
     "shell.execute_reply.started": "2021-08-30T13:41:07.346476Z"
    }
   },
   "outputs": [
    {
     "name": "stdout",
     "output_type": "stream",
     "text": [
      "(6424, 18) (8746, 8) (7888, 15)\n"
     ]
    }
   ],
   "source": [
    "def add_cols(df):\n",
    "    df['game_play'] = df['video_frame'].str.split('_').str[:2].str.join('_')\n",
    "    if not 'video' in df.columns:\n",
    "        df['video'] = df['video_frame'].str.split('_').str[:3].str.join('_') + '.mp4'\n",
    "    return df\n",
    "\n",
    "\n",
    "# path \n",
    "BASE_DIR = Path('/work/data/input/nfl-health-and-safety-helmet-assignment')\n",
    "TRAIN_DIR = BASE_DIR / 'train'\n",
    "TEST_DIR = BASE_DIR / 'test'\n",
    "IMAGES_DIR = BASE_DIR / 'images'\n",
    "    \n",
    "# Reading data\n",
    "DEBUG = (len(glob(str(TEST_DIR / '*'))) == 6)\n",
    "\n",
    "if DEBUG:\n",
    "    tracking = pd.read_csv(BASE_DIR / 'train_player_tracking.csv')\n",
    "    helmets = pd.read_csv(BASE_DIR / 'train_baseline_helmets.csv')\n",
    "else:\n",
    "    tracking = pd.read_csv(BASE_DIR / 'test_player_tracking.csv') \n",
    "    helmets = pd.read_csv(BASE_DIR / 'test_baseline_helmets.csv')\n",
    "    \n",
    "labels = pd.read_csv(BASE_DIR / 'train_labels.csv')\n",
    "sub = pd.read_csv(BASE_DIR / 'sample_submission.csv')\n",
    "\n",
    "# processing data\n",
    "tracking = add_track_features(tracking)\n",
    "helmets = add_cols(helmets)\n",
    "labels = add_cols(labels)\n",
    "\n",
    "# sampling Data\n",
    "if DEBUG:\n",
    "    sample_videos = labels['video'].drop_duplicates().sample(1, random_state=42).tolist()\n",
    "    sample_gameplays = ['_'.join(x.split('_')[:2]) for x in sample_videos]\n",
    "    tracking = tracking[tracking['game_play'].isin(sample_gameplays)]\n",
    "    helmets = helmets[helmets['video'].isin(sample_videos)]\n",
    "    labels = labels[labels['video'].isin(sample_videos)]\n",
    "\n",
    "print(tracking.shape, helmets.shape, labels.shape)"
   ]
  },
  {
   "cell_type": "code",
   "execution_count": null,
   "metadata": {
    "execution": {
     "iopub.execute_input": "2021-08-30T13:41:28.220873Z",
     "iopub.status.busy": "2021-08-30T13:41:28.220509Z",
     "iopub.status.idle": "2021-08-30T13:41:28.315144Z",
     "shell.execute_reply": "2021-08-30T13:41:28.314016Z",
     "shell.execute_reply.started": "2021-08-30T13:41:28.220839Z"
    }
   },
   "outputs": [],
   "source": [
    "def find_nearest(arr: np.array, value: int):\n",
    "    arr, value = arr.astype(int), int(value)\n",
    "    idx = np.abs(arr - value).argmin()\n",
    "    return arr[idx]\n",
    "\n",
    "def normalize_arr(arr: np.array):\n",
    "    _mean = np.mean(arr, axis=0)\n",
    "    out_arr = arr - _mean\n",
    "    _norm = np.linalg.norm(out_arr)\n",
    "    out_arr = out_arr / _norm\n",
    "    return out_arr\n",
    "\n",
    "def rotate_arr(u, t):\n",
    "    t = np.deg2rad(t)\n",
    "    R = np.array([\n",
    "        [np.cos(t), -np.sin(t)],\n",
    "        [np.sin(t),  np.cos(t)]\n",
    "    ])\n",
    "    return  np.dot(R, u.T).T\n",
    "\n",
    "def mapping(h_arr: np.array, t_arr: np.array):\n",
    "    out_norm = float('INF')\n",
    "    out_idx = None\n",
    "    out_x = None\n",
    "    out_dig = None\n",
    "    \n",
    "    tree = KDTree(t_arr)\n",
    "    for i in range(len(t_arr)):\n",
    "        dist, idx = tree.query([t_arr[i]], k=len(h_arr))\n",
    "        idx = np.sort(idx[0])\n",
    "        norm_t_arr = normalize_arr(t_arr[idx])\n",
    "                \n",
    "        # minimization norm\n",
    "        def opt_rot(dig):\n",
    "            rot_t_arr = rotate_arr(norm_t_arr, dig)\n",
    "            return np.linalg.norm(np.sort(rot_t_arr[:, 0])-h_arr[:, 0])\n",
    "                \n",
    "        for bounds in [(-DIG_MAX , DIG_MAX), (180-DIG_MAX, 180+DIG_MAX)]:\n",
    "            result = minimize_scalar(opt_rot, bounds=bounds, method='bounded') \n",
    "            if out_norm > result.fun:\n",
    "                out_norm = result.fun\n",
    "                out_idx = idx\n",
    "                out_x = rotate_arr(norm_t_arr, result.x)[:, 0]\n",
    "                out_dig = result.x\n",
    "                \n",
    "    return out_idx, out_x\n",
    "\n",
    "def main(args: pd.DataFrame):\n",
    "    video_frame, subhelmets = args\n",
    "    gameKey, playID, view, frame = video_frame.split('_')\n",
    "    gameKey, playID, frame = int(gameKey), int(playID), int(frame)\n",
    "\n",
    "    # get nearest-frame\n",
    "    _index = (tracking['gameKey']==gameKey) & (tracking['playID']==playID)\n",
    "    subtracking = tracking[_index].copy()\n",
    "    est_frame = find_nearest(subtracking[\"est_frame\"].values, frame)\n",
    "    subtracking = subtracking[subtracking['est_frame']==est_frame]\n",
    "    subtracking = subtracking.reset_index(drop=True)\n",
    "\n",
    "    if view == 'Endzone':\n",
    "        subtracking[['x', 'y']] = subtracking[['y', 'x']].values\n",
    "\n",
    "    # normalizing \n",
    "    subhelmets = subhelmets[subhelmets['conf']>CONF_THRE].copy()\n",
    "\n",
    "    if len(subhelmets) > len(subtracking):\n",
    "        subhelmets = subhelmets.tail(len(subtracking))\n",
    "\n",
    "    subhelmets['x'] = subhelmets['left'] + subhelmets['width'] // 2\n",
    "    subhelmets['y'] = subhelmets['top'] + subhelmets['height'] // 2\n",
    "    subhelmets[['norm_x', 'norm_y']] = normalize_arr(subhelmets[['x', 'y']].values)\n",
    "    subhelmets = subhelmets.sort_values('norm_x').reset_index(drop=True)\n",
    "\n",
    "    # mapping tracking2helmets\n",
    "    h_arr = subhelmets[['norm_x', 'norm_y']].values\n",
    "    t_arr = subtracking[['x', 'y']].values\n",
    "    out_idx, out_x = mapping(h_arr, t_arr)\n",
    "\n",
    "    # helmets labeling \n",
    "    players = subtracking['player'].tolist()\n",
    "    players = [p for i, p in enumerate(players) if i in out_idx]\n",
    "    _pred = pd.DataFrame({'label': players, 'x': out_x}).sort_values('x')['label']\n",
    "    subhelmets['label'] = _pred.values\n",
    "    \n",
    "    return subhelmets[['video_frame', 'left', 'width', 'top', 'height', 'label']]"
   ]
  },
  {
   "cell_type": "code",
   "execution_count": null,
   "metadata": {
    "execution": {
     "iopub.execute_input": "2021-08-30T13:41:28.316954Z",
     "iopub.status.busy": "2021-08-30T13:41:28.316574Z",
     "iopub.status.idle": "2021-08-30T13:41:45.929489Z",
     "shell.execute_reply": "2021-08-30T13:41:45.927795Z",
     "shell.execute_reply.started": "2021-08-30T13:41:28.316917Z"
    }
   },
   "outputs": [],
   "source": [
    "# multi processing\n",
    "df_list = helmets.groupby('video_frame')\n",
    "submission_df = []\n",
    "\n",
    "p = Pool(processes=4)\n",
    "with tqdm(total=len(df_list)) as pbar:\n",
    "    for subdf in p.imap(main, df_list):\n",
    "        submission_df.append(subdf)\n",
    "        pbar.update(1)\n",
    "p.close()\n",
    "\n",
    "# submission\n",
    "submission_df = pd.concat(submission_df).reset_index(drop=True)\n",
    "submission_df.to_csv('submission.csv', index=False)\n",
    "\n",
    "if DEBUG:\n",
    "    scorer = NFLAssignmentScorer(labels[labels['video_frame'].isin(submission_df['video_frame'].unique())])\n",
    "    score = scorer.score(submission_df)\n",
    "    print(f'score: {round(score, 5)}')"
   ]
  }
 ],
 "metadata": {
  "kernelspec": {
   "display_name": "Python 3 (ipykernel)",
   "language": "python",
   "name": "python3"
  },
  "language_info": {
   "codemirror_mode": {
    "name": "ipython",
    "version": 3
   },
   "file_extension": ".py",
   "mimetype": "text/x-python",
   "name": "python",
   "nbconvert_exporter": "python",
   "pygments_lexer": "ipython3",
   "version": "3.7.10"
  },
  "toc": {
   "base_numbering": 1,
   "nav_menu": {},
   "number_sections": true,
   "sideBar": true,
   "skip_h1_title": false,
   "title_cell": "Table of Contents",
   "title_sidebar": "Contents",
   "toc_cell": false,
   "toc_position": {},
   "toc_section_display": true,
   "toc_window_display": false
  }
 },
 "nbformat": 4,
 "nbformat_minor": 4
}
