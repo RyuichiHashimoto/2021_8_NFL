{
 "cells": [
  {
   "cell_type": "code",
   "execution_count": 20,
   "id": "dcb2c8fc",
   "metadata": {},
   "outputs": [],
   "source": [
    "import pandas as pd\n",
    "import numpy as np\n",
    "import torch\n",
    "\n",
    "from lib.math.coodinate import generate_rotation_maxrix,convert_3d_to_2d"
   ]
  },
  {
   "cell_type": "code",
   "execution_count": 27,
   "id": "c2b1b7d9",
   "metadata": {},
   "outputs": [],
   "source": [
    "nOfRecords = 1000\n",
    "\n",
    "data = np.random.rand(nOfRecords, 3).astype(np.float32)\n",
    "df = pd.DataFrame(data,columns = [\"x\",\"y\",\"z\"])\n",
    "\n",
    "\n",
    "s = generate_rotation_maxrix(180,axis=\"y\")\n",
    "\n",
    "\n",
    "rotationMatrix = np.array([[1,0,0],[0,-1,0],[0,0,1]])\n",
    "rotationMatrix_gpu = torch.from_numpy(rotationMatrix.astype(np.float32)).clone().cuda()\n",
    "\n",
    "data_gpu = torch.from_numpy(data.astype(np.float32)).clone().cuda()"
   ]
  },
  {
   "cell_type": "markdown",
   "id": "b56b6df8",
   "metadata": {},
   "source": [
    "## CPU VS GPU"
   ]
  },
  {
   "cell_type": "markdown",
   "id": "d5207ec3",
   "metadata": {},
   "source": [
    "### CPU"
   ]
  },
  {
   "cell_type": "code",
   "execution_count": 63,
   "id": "bb4dc380",
   "metadata": {},
   "outputs": [
    {
     "name": "stdout",
     "output_type": "stream",
     "text": [
      "CPU times: user 1.05 s, sys: 0 ns, total: 1.05 s\n",
      "Wall time: 1.08 s\n"
     ]
    }
   ],
   "source": [
    "%%time\n",
    "for i in range(0,100000):\n",
    "    data@rotationMatrix"
   ]
  },
  {
   "cell_type": "code",
   "execution_count": 69,
   "id": "5aa54823",
   "metadata": {},
   "outputs": [
    {
     "name": "stdout",
     "output_type": "stream",
     "text": [
      "CPU times: user 180 µs, sys: 0 ns, total: 180 µs\n",
      "Wall time: 187 µs\n"
     ]
    }
   ],
   "source": [
    "%%time\n",
    "s = torch.mm(data_gpu,rotationMatrix_gpu)\n",
    "#for i in range(0,100000):\n",
    "    \n",
    "    "
   ]
  },
  {
   "cell_type": "code",
   "execution_count": null,
   "id": "e3d38359",
   "metadata": {},
   "outputs": [],
   "source": []
  }
 ],
 "metadata": {
  "kernelspec": {
   "display_name": "Python 3 (ipykernel)",
   "language": "python",
   "name": "python3"
  },
  "language_info": {
   "codemirror_mode": {
    "name": "ipython",
    "version": 3
   },
   "file_extension": ".py",
   "mimetype": "text/x-python",
   "name": "python",
   "nbconvert_exporter": "python",
   "pygments_lexer": "ipython3",
   "version": "3.7.10"
  }
 },
 "nbformat": 4,
 "nbformat_minor": 5
}
