{
 "cells": [
  {
   "cell_type": "code",
   "execution_count": 20,
   "id": "dba997f0",
   "metadata": {},
   "outputs": [],
   "source": [
    "import pandas as pd\n",
    "import numpy as np\n",
    "import torch\n",
    "\n",
    "from lib.math.coodinate import generate_rotation_maxrix,convert_3d_to_2d"
   ]
  },
  {
   "cell_type": "code",
   "execution_count": 27,
   "id": "97bbc8ef",
   "metadata": {},
   "outputs": [],
   "source": [
    "nOfRecords = 1000\n",
    "\n",
    "data = np.random.rand(nOfRecords, 3).astype(np.float32)\n",
    "df = pd.DataFrame(data,columns = [\"x\",\"y\",\"z\"])\n",
    "\n",
    "\n",
    "s = generate_rotation_maxrix(180,axis=\"y\")\n",
    "\n",
    "\n",
    "rotationMatrix = np.array([[1,0,0],[0,-1,0],[0,0,1]])\n",
    "rotationMatrix_gpu = torch.from_numpy(rotationMatrix.astype(np.float32)).clone().cuda()\n",
    "\n",
    "data_gpu = torch.from_numpy(data.astype(np.float32)).clone().cuda()"
   ]
  },
  {
   "cell_type": "markdown",
   "id": "161847f3",
   "metadata": {},
   "source": [
    "## CPU VS GPU"
   ]
  },
  {
   "cell_type": "markdown",
   "id": "fa4201bf",
   "metadata": {},
   "source": [
    "### CPU"
   ]
  },
  {
   "cell_type": "code",
   "execution_count": 76,
   "id": "9ad38676",
   "metadata": {},
   "outputs": [
    {
     "name": "stdout",
     "output_type": "stream",
     "text": [
      "CPU times: user 233 ms, sys: 0 ns, total: 233 ms\n",
      "Wall time: 324 ms\n"
     ]
    }
   ],
   "source": [
    "%%time\n",
    "for i in range(0,10000):\n",
    "    s = data@rotationMatrix\n",
    "    s = s@rotationMatrix"
   ]
  },
  {
   "cell_type": "code",
   "execution_count": 69,
   "id": "9b8cd6ad",
   "metadata": {},
   "outputs": [
    {
     "name": "stdout",
     "output_type": "stream",
     "text": [
      "CPU times: user 180 µs, sys: 0 ns, total: 180 µs\n",
      "Wall time: 187 µs\n"
     ]
    }
   ],
   "source": [
    "%%time\n",
    "s = torch.mm(data_gpu,rotationMatrix_gpu)\n",
    "#for i in range(0,100000):\n",
    "    \n",
    "    "
   ]
  },
  {
   "cell_type": "code",
   "execution_count": null,
   "id": "59027041",
   "metadata": {},
   "outputs": [],
   "source": []
  },
  {
   "cell_type": "code",
   "execution_count": 74,
   "id": "3e38e884",
   "metadata": {},
   "outputs": [
    {
     "data": {
      "text/plain": [
       "array([[ 0.09936523, -0.3479004 ,  0.21252441],\n",
       "       [ 0.09545898, -0.02638245,  0.53125   ],\n",
       "       [ 0.07073975, -0.6459961 ,  0.22680664],\n",
       "       ...,\n",
       "       [ 0.17944336, -0.90966797,  0.4182129 ],\n",
       "       [ 0.47851562, -0.28515625,  0.63916016],\n",
       "       [ 0.2861328 , -0.39990234,  0.8120117 ]], dtype=float32)"
      ]
     },
     "execution_count": 74,
     "metadata": {},
     "output_type": "execute_result"
    }
   ],
   "source": [
    "#s = s.to(\"cpu\").detach().numpy().copy()\n",
    "s"
   ]
  }
 ],
 "metadata": {
  "kernelspec": {
   "display_name": "Python 3 (ipykernel)",
   "language": "python",
   "name": "python3"
  },
  "language_info": {
   "codemirror_mode": {
    "name": "ipython",
    "version": 3
   },
   "file_extension": ".py",
   "mimetype": "text/x-python",
   "name": "python",
   "nbconvert_exporter": "python",
   "pygments_lexer": "ipython3",
   "version": "3.7.10"
  }
 },
 "nbformat": 4,
 "nbformat_minor": 5
}
