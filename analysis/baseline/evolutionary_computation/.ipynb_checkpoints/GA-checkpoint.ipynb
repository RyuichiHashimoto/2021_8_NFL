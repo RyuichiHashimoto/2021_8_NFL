{
 "cells": [
  {
   "cell_type": "code",
   "execution_count": 1,
   "id": "896673f8",
   "metadata": {},
   "outputs": [],
   "source": [
    "import pandas as pd\n",
    "from numpy import random\n",
    "import numpy as np\n",
    "from tqdm import tqdm\n",
    "import warnings\n",
    "warnings.simplefilter('ignore')\n",
    "\n",
    "import numpy as np\n",
    "import pandas as pd\n",
    "import itertools\n",
    "import glob\n",
    "import os\n",
    "import cv2\n",
    "\n",
    "from matplotlib import pyplot as plt\n",
    "from lib.noglobal import noglobal\n",
    "\n",
    "\n",
    "from lib.evolutionary_computation.GA import exe_GA,initialize_population\n",
    "from lib.evolutionary_computation.Problem import onemaxProblem,zeromaxProblem,knapsackProblem\n",
    "\n",
    "from lib.evolutionary_computation.Solution import Solution, population_to_numpy\n",
    "from lib.evolutionary_computation.Problem import Problem\n",
    "\n"
   ]
  },
  {
   "cell_type": "markdown",
   "id": "87cc842b",
   "metadata": {},
   "source": [
    "## deepsort "
   ]
  },
  {
   "cell_type": "code",
   "execution_count": 2,
   "id": "1e431ad9",
   "metadata": {},
   "outputs": [],
   "source": [
    "deepsort_result = pd.read_csv(\"deepsort_result.csv\")\n",
    "\n",
    "deepsort_result = deepsort_result.dropna(subset = [\"deepsort_cluster\"])\n",
    "target_video =\"_\".join(deepsort_result[\"video\"].unique()[0].split(\"_\")[:-1])\n",
    "\n",
    "\n",
    "deepsort_result = deepsort_result[deepsort_result[\"frame\"] < 5]\n",
    "    "
   ]
  },
  {
   "cell_type": "markdown",
   "id": "49a70548",
   "metadata": {},
   "source": [
    "## tracking"
   ]
  },
  {
   "cell_type": "code",
   "execution_count": 3,
   "id": "9ccc5c4f",
   "metadata": {},
   "outputs": [],
   "source": [
    "from external_lib.utility import add_track_features\n",
    "\n",
    "\n",
    "@noglobal()\n",
    "def preprocess_tracking(target_video):\n",
    "    tracking = pd.read_csv(\"/work/data/input/nfl-health-and-safety-helmet-assignment/train_player_tracking.csv\")\n",
    "    tracking = add_track_features(tracking)\n",
    "    tracking = tracking[tracking[\"game_play\"] == target_video]\n",
    "    tracking = tracking[tracking[\"est_frame\"] >-5]\n",
    "    return tracking.reset_index()\n",
    "\n",
    "tracking = preprocess_tracking(target_video)"
   ]
  },
  {
   "cell_type": "markdown",
   "id": "e334a8d0",
   "metadata": {},
   "source": [
    "## solution variables"
   ]
  },
  {
   "cell_type": "code",
   "execution_count": 4,
   "id": "e0f9277a",
   "metadata": {},
   "outputs": [],
   "source": [
    "from sklearn.preprocessing import LabelEncoder\n",
    "\n",
    "le = LabelEncoder()\n",
    "deepsort_result[\"deepsort_cluster_label\"] = deepsort_result[\"deepsort_cluster\"].apply(lambda x: \"cluster_\"+str(x))\n",
    "le.fit(deepsort_result[\"deepsort_cluster_label\"])\n",
    "\n",
    "deepsort_result[\"deepsort_cluster_encoded\"] = le.transform(deepsort_result[\"deepsort_cluster_label\"])\n",
    "pd_list = [];\n",
    "pd_list  = [each_df[~each_df[\"deepsort_cluster_encoded\"].duplicated()] for key,each_df in  deepsort_result.groupby(\"frame\")]\n",
    "deepsort_result = pd.concat(pd_list)\n",
    "\n",
    "\n",
    "H_player =tracking.loc[tracking[\"player\"].str.contains(\"H\"),\"player\"].unique()\n",
    "V_player =tracking.loc[tracking[\"player\"].str.contains(\"V\"),\"player\"].unique()\n",
    "\n",
    "n_variables = deepsort_result[\"deepsort_cluster_encoded\"].nunique()\n",
    "\n",
    "n_H_player = H_player.shape[0]\n",
    "n_V_player = V_player.shape[0]\n",
    "\n",
    "solution_variables = random.randint(n_V_player+n_H_player,size = n_variables)\n",
    "solution_variables = solution_variables-n_V_player\n",
    "solution_variables = np.where(solution_variables>=0,solution_variables+1,solution_variables)"
   ]
  },
  {
   "cell_type": "markdown",
   "id": "2bebdd6d",
   "metadata": {},
   "source": [
    "## team"
   ]
  },
  {
   "cell_type": "markdown",
   "id": "38eb8ba7",
   "metadata": {},
   "source": [
    "### prepare"
   ]
  },
  {
   "cell_type": "markdown",
   "id": "2848d010",
   "metadata": {},
   "source": [
    "### main"
   ]
  },
  {
   "cell_type": "code",
   "execution_count": 5,
   "id": "1d95b31e",
   "metadata": {},
   "outputs": [
    {
     "data": {
      "text/plain": [
       "-14"
      ]
     },
     "execution_count": 5,
     "metadata": {},
     "output_type": "execute_result"
    }
   ],
   "source": [
    "from lib.evolutionary_computation.Compe_Problem import team_count,Distance_Evaluator, Same_Person_Per_Frame_Evaluator,Compe_problem\n",
    "\n",
    "team_count(solution_variables,deepsort_result)"
   ]
  },
  {
   "cell_type": "markdown",
   "id": "0f844ad1",
   "metadata": {},
   "source": [
    "## Distance minimization"
   ]
  },
  {
   "cell_type": "code",
   "execution_count": 6,
   "id": "6afc141a",
   "metadata": {
    "scrolled": false
   },
   "outputs": [
    {
     "name": "stderr",
     "output_type": "stream",
     "text": [
      "100%|██████████| 1/1 [00:00<00:00, 124.90it/s]\n"
     ]
    }
   ],
   "source": [
    "\n",
    "            \n",
    "                                \n",
    "eva = Distance_Evaluator(deepsort_result,tracking,H_player,V_player,isNorm=True)           \n",
    "for k in tqdm(range(1)):\n",
    "    solution_variables = random.randint(n_V_player+n_H_player,size = n_variables)\n",
    "    solution_variables = solution_variables-n_V_player\n",
    "    solution_variables = np.where(solution_variables>=0,solution_variables+1,solution_variables)\n",
    "    b = eva.evaluate(solution_variables)\n",
    "    #print(b)\n",
    "#solution_variables\n"
   ]
  },
  {
   "cell_type": "code",
   "execution_count": 7,
   "id": "5c0e742c",
   "metadata": {},
   "outputs": [
    {
     "data": {
      "text/html": [
       "<div>\n",
       "<style scoped>\n",
       "    .dataframe tbody tr th:only-of-type {\n",
       "        vertical-align: middle;\n",
       "    }\n",
       "\n",
       "    .dataframe tbody tr th {\n",
       "        vertical-align: top;\n",
       "    }\n",
       "\n",
       "    .dataframe thead th {\n",
       "        text-align: right;\n",
       "    }\n",
       "</style>\n",
       "<table border=\"1\" class=\"dataframe\">\n",
       "  <thead>\n",
       "    <tr style=\"text-align: right;\">\n",
       "      <th></th>\n",
       "      <th>tracking_x</th>\n",
       "      <th>tracking_y</th>\n",
       "    </tr>\n",
       "  </thead>\n",
       "  <tbody>\n",
       "    <tr>\n",
       "      <th>30</th>\n",
       "      <td>28.29</td>\n",
       "      <td>34.3</td>\n",
       "    </tr>\n",
       "    <tr>\n",
       "      <th>46</th>\n",
       "      <td>28.29</td>\n",
       "      <td>34.3</td>\n",
       "    </tr>\n",
       "  </tbody>\n",
       "</table>\n",
       "</div>"
      ],
      "text/plain": [
       "    tracking_x  tracking_y\n",
       "30       28.29        34.3\n",
       "46       28.29        34.3"
      ]
     },
     "execution_count": 7,
     "metadata": {},
     "output_type": "execute_result"
    }
   ],
   "source": [
    "b[[\"tracking_x\",\"tracking_y\"]]"
   ]
  },
  {
   "cell_type": "markdown",
   "id": "16c93ce2",
   "metadata": {},
   "source": [
    "## 同一フレームに同一人物が復数いないようにする。"
   ]
  },
  {
   "cell_type": "code",
   "execution_count": 8,
   "id": "0e02a0cc",
   "metadata": {},
   "outputs": [
    {
     "ename": "Exception",
     "evalue": "asdf",
     "output_type": "error",
     "traceback": [
      "\u001b[0;31m---------------------------------------------------------------------------\u001b[0m",
      "\u001b[0;31mException\u001b[0m                                 Traceback (most recent call last)",
      "\u001b[0;32m/tmp/ipykernel_1446838/3689871945.py\u001b[0m in \u001b[0;36m<module>\u001b[0;34m\u001b[0m\n\u001b[0;32m----> 1\u001b[0;31m \u001b[0;32mraise\u001b[0m \u001b[0mException\u001b[0m\u001b[0;34m(\u001b[0m\u001b[0;34m\"asdf\"\u001b[0m\u001b[0;34m)\u001b[0m\u001b[0;34m\u001b[0m\u001b[0;34m\u001b[0m\u001b[0m\n\u001b[0m",
      "\u001b[0;31mException\u001b[0m: asdf"
     ]
    }
   ],
   "source": [
    "raise Exception(\"asdf\")"
   ]
  },
  {
   "cell_type": "code",
   "execution_count": null,
   "id": "a90c0103",
   "metadata": {},
   "outputs": [],
   "source": [
    "deepsort_result"
   ]
  },
  {
   "cell_type": "code",
   "execution_count": null,
   "id": "dad411d9",
   "metadata": {
    "scrolled": false
   },
   "outputs": [],
   "source": [
    "eva = Same_Person_Per_Frame_Evaluator(deepsort_result)           \n",
    "for k in tqdm(range(1)):    \n",
    "    \n",
    "    solution_variables = random.randint(n_V_player+n_H_player,size = n_variables)\n",
    "    solution_variables = solution_variables-n_V_player\n",
    "    solution_variables = np.where(solution_variables>=0,solution_variables+1,solution_variables)\n",
    "    b = eva.evaluate(solution_variables)\n",
    "    #print(b)"
   ]
  },
  {
   "cell_type": "code",
   "execution_count": null,
   "id": "650adedb",
   "metadata": {},
   "outputs": [],
   "source": [
    "deepsort_result.head(3)"
   ]
  },
  {
   "cell_type": "code",
   "execution_count": null,
   "id": "2499d8b2",
   "metadata": {},
   "outputs": [],
   "source": [
    "pd_list  = [ each_df[~each_df[\"deepsort_cluster_encoded\"].duplicated()] for key,each_df in  deepsort_result.groupby(\"frame\")]\n",
    "test = pd.concat(pd_list)\n",
    "test[\"dummy\"] = 1\n",
    "b = test.pivot(index=\"frame\",columns = \"deepsort_cluster_encoded\",values = \"dummy\").fillna(0)\n",
    "sol = solution_variables\n",
    "s = b.copy()\n"
   ]
  },
  {
   "cell_type": "code",
   "execution_count": null,
   "id": "2e93ec41",
   "metadata": {},
   "outputs": [],
   "source": [
    "%%time\n",
    "\n",
    "(b*sol).T.nunique().sum()"
   ]
  },
  {
   "cell_type": "markdown",
   "id": "ce21254c",
   "metadata": {},
   "source": [
    "## Problem"
   ]
  },
  {
   "cell_type": "code",
   "execution_count": null,
   "id": "90a926d0",
   "metadata": {},
   "outputs": [],
   "source": []
  },
  {
   "cell_type": "code",
   "execution_count": null,
   "id": "3806e516",
   "metadata": {
    "scrolled": false
   },
   "outputs": [],
   "source": [
    "%%time\n",
    "\n",
    "B,objective,best_solution = exe_GA(Compe_problem(tracking.reset_index(drop=True),deepsort_result.reset_index(drop=True)))"
   ]
  },
  {
   "cell_type": "code",
   "execution_count": null,
   "id": "58a6c468",
   "metadata": {},
   "outputs": [],
   "source": [
    "best_solution.variables"
   ]
  },
  {
   "cell_type": "code",
   "execution_count": null,
   "id": "db823643",
   "metadata": {},
   "outputs": [],
   "source": [
    "home = np.where(best_solution.variables > 0)[0]\n",
    "visitor = np.where(best_solution.variables < 0)[0]"
   ]
  },
  {
   "cell_type": "code",
   "execution_count": null,
   "id": "dddf87fd",
   "metadata": {},
   "outputs": [],
   "source": [
    "modify = deepsort_result.copy()"
   ]
  },
  {
   "cell_type": "code",
   "execution_count": null,
   "id": "452d9207",
   "metadata": {},
   "outputs": [],
   "source": [
    "def _get_Player(variable,H_player_list,V_player_list):\n",
    "        \n",
    "        #best_solution.problem.H_player_list\n",
    "        if (variable > 0):\n",
    "            return H_player_list[variable-1]\n",
    "        else:\n",
    "            return V_player_list[abs(variable)-1]\n",
    "        \n",
    "\n",
    "H_player_list = best_solution.problem.H_player_list\n",
    "V_player_list = best_solution.problem.V_player_list\n",
    "        \n",
    "modify[\"player\"] = modify[\"deepsort_cluster_encoded\"].apply(lambda x: _get_Player(best_solution.variables[x],H_player_list,V_player_list));"
   ]
  },
  {
   "cell_type": "code",
   "execution_count": null,
   "id": "a615288c",
   "metadata": {},
   "outputs": [],
   "source": [
    "modify.loc[modify[\"deepsort_cluster_encoded\"].isin(home),\"Optimized_Team\"] = \"Home\"\n",
    "modify.loc[modify[\"deepsort_cluster_encoded\"].isin(visitor),\"Optimized_Team\"] = \"Visitor\"\n",
    "modify = modify.reset_index(drop=True)\n",
    "modify"
   ]
  },
  {
   "cell_type": "code",
   "execution_count": null,
   "id": "cab5017d",
   "metadata": {},
   "outputs": [],
   "source": [
    "modify"
   ]
  },
  {
   "cell_type": "markdown",
   "id": "e5d64ca4",
   "metadata": {},
   "source": [
    "train_df = pd.read_csv(\"/work/data/input/nfl-health-and-safety-helmet-assignment/train_labels.csv\")\n",
    "train_df[\"video\"] = train_df[\"video_frame\"].apply(lambda x: \"_\".join(x.split(\"_\")[:-1]))\n",
    "\n",
    "train_df = train_df[train_df[\"video\"].isin([\"57778_004244_Endzone\"])]\n",
    "train_df[\"right\"] = train_df[\"left\"] + train_df[\"width\"]\n",
    "train_df[\"bottom\"] = train_df[\"top\"] + train_df[\"height\"]\n",
    "display(train_df)"
   ]
  },
  {
   "cell_type": "code",
   "execution_count": null,
   "id": "d32b890c",
   "metadata": {},
   "outputs": [],
   "source": [
    "a = np.array([ i for i in range(1,200)])\n",
    "s = a / sum(a)\n",
    "s[::-1]"
   ]
  },
  {
   "cell_type": "code",
   "execution_count": null,
   "id": "ac4da57a",
   "metadata": {
    "scrolled": false
   },
   "outputs": [],
   "source": [
    "objective"
   ]
  },
  {
   "cell_type": "code",
   "execution_count": null,
   "id": "5579f8d8",
   "metadata": {
    "scrolled": false
   },
   "outputs": [],
   "source": [
    "@noglobal()\n",
    "def compute_color_for_id(label):\n",
    "    \"\"\"\n",
    "    Simple function that adds fixed color depending on the id\n",
    "    \"\"\"\n",
    "    palette = (2 ** 11 - 1, 2 ** 15 - 1, 2 ** 20 - 1)\n",
    "\n",
    "    color = [int((p * (label ** 2 - label + 1)) % 255) for p in palette]\n",
    "    return tuple(color)\n",
    "\n",
    "@noglobal()\n",
    "def plot_one_box(x, im, color=None, label=None, line_thickness=3):\n",
    "    # Plots one bounding box on image 'im' using OpenCV\n",
    "    assert im.data.contiguous, 'Image not contiguous. Apply np.ascontiguousarray(im) to plot_on_box() input image.'\n",
    "    tl = line_thickness or round(0.002 * (im.shape[0] + im.shape[1]) / 2) + 1  # line/font thickness\n",
    "    color = color or [random.randint(0, 255) for _ in range(3)]\n",
    "    c1, c2 = (int(x[0]), int(x[1])), (int(x[2]), int(x[3]))\n",
    "    cv2.rectangle(im, c1, c2, color, thickness=tl, lineType=cv2.LINE_AA)\n",
    "    if label: \n",
    "        tf = max(tl - 1, 1)  # font thickness\n",
    "        t_size = cv2.getTextSize(label, 0, fontScale=tl / 3, thickness=tf)[0]\n",
    "        c2 = c1[0] + t_size[0], c1[1] - t_size[1] - 3\n",
    "        cv2.rectangle(im, c1, c2, color, -1, cv2.LINE_AA)  # filled\n",
    "        cv2.putText(im, label, (c1[0], c1[1] - 2), 0, tl / 3, [225, 255, 255], thickness=tf, lineType=cv2.LINE_AA)\n",
    "    return im\n",
    "\n",
    "\n",
    "base_dir = \"/work/data/input/nfl-health-and-safety-helmet-assignment\"\n",
    "video_dir = f\"{base_dir}/train/\"\n",
    "myvideo = modify[\"video\"].unique()[0]\n",
    "#modify= train_df\n",
    "\n",
    "\n",
    "\n",
    "count = 0\n",
    "for frame, d in tqdm(modify.groupby(['frame']), total=modify['frame'].nunique()):        \n",
    "        #if(frame >10 or count > 10):\n",
    "        #    continue;\n",
    "        count = count + 1\n",
    "        xywhs = d[['left','top','right','bottom']].values\n",
    "        labels = d[\"player\"].values\n",
    "\n",
    "\n",
    "        cap = cv2.VideoCapture(f'{video_dir}/{myvideo}.mp4')\n",
    "\n",
    "        cap.set(cv2.CAP_PROP_POS_FRAMES, frame-1) # optional\n",
    "\n",
    "        ##シーケンス\n",
    "        success, image = cap.read()\n",
    "\n",
    "        # 画像の色の順番を変更（BGR to RGB）\n",
    "        image = cv2.cvtColor(image, cv2.COLOR_BGR2RGB)\n",
    "\n",
    "\n",
    "        if (True ):\n",
    "\n",
    "\n",
    "\n",
    "            for j, (output, label) in enumerate(zip(xywhs, labels)): \n",
    "\n",
    "                bboxes = output[0:4]\n",
    "                label = f'{label}'\n",
    "\n",
    "                #color = compute_color_for_id(label)\n",
    "                \n",
    "                \n",
    "                if (\"H\" in label):\n",
    "                    im = plot_one_box(bboxes, image, label=label, color=[0,0,0], line_thickness=2)    \n",
    "                elif (\"V\" in label):\n",
    "                    im = plot_one_box(bboxes, image, label=label, color=[255,0,0], line_thickness=2)    \n",
    "                else:\n",
    "                    raise Exception(\"asdf\");\n",
    "\n",
    "\n",
    "\n",
    "            ig, ax = plt.subplots(figsize=(15, 10))\n",
    "            video_frame = d['frame'].values[0]\n",
    "            ax.set_title(f'Deepsort labels: {video_frame}')\n",
    "            plt.imshow(im)\n",
    "            plt.show()\n"
   ]
  }
 ],
 "metadata": {
  "kernelspec": {
   "display_name": "Python 3 (ipykernel)",
   "language": "python",
   "name": "python3"
  },
  "language_info": {
   "codemirror_mode": {
    "name": "ipython",
    "version": 3
   },
   "file_extension": ".py",
   "mimetype": "text/x-python",
   "name": "python",
   "nbconvert_exporter": "python",
   "pygments_lexer": "ipython3",
   "version": "3.7.10"
  },
  "toc": {
   "base_numbering": 1,
   "nav_menu": {},
   "number_sections": true,
   "sideBar": true,
   "skip_h1_title": false,
   "title_cell": "Table of Contents",
   "title_sidebar": "Contents",
   "toc_cell": false,
   "toc_position": {},
   "toc_section_display": true,
   "toc_window_display": false
  }
 },
 "nbformat": 4,
 "nbformat_minor": 5
}
