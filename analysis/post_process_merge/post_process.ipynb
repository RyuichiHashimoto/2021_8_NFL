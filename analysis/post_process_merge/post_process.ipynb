{
 "cells": [
  {
   "cell_type": "code",
   "execution_count": 1,
   "id": "39c76176",
   "metadata": {},
   "outputs": [],
   "source": [
    "import pandas as pd\n",
    "import numpy as np\n",
    "\n",
    "from external_lib.NFLlib.score import NFLAssignmentScorer, check_submission\n",
    "from external_lib.NFLlib.features import add_track_features\n",
    "from tqdm.notebook import tqdm\n",
    "\n",
    "import warnings\n",
    "warnings.simplefilter('ignore')"
   ]
  },
  {
   "cell_type": "markdown",
   "id": "f124b329",
   "metadata": {},
   "source": [
    "## ファイル読み込み"
   ]
  },
  {
   "cell_type": "code",
   "execution_count": 2,
   "id": "f5f42df8",
   "metadata": {},
   "outputs": [],
   "source": [
    "label_path = \"/work/data/input/nfl-health-and-safety-helmet-assignment/train_labels.csv\"\n",
    "helmets_path = \"/work/data/input/nfl-health-and-safety-helmet-assignment/train_baseline_helmets.csv\"\n",
    "tracking_path =  \"/work/data/input/nfl-health-and-safety-helmet-assignment/train_player_tracking.csv\"\n",
    "sub_path =  \"/work/analysis/baseline/baseline_rotate_xy/submission-baseline_upgrade.csv\"\n",
    "\n",
    "\n",
    "sub = pd.read_csv(sub_path)\n",
    "labels = pd.read_csv(label_path)\n",
    "helmets = pd.read_csv(helmets_path)\n",
    "trackings = pd.read_csv(tracking_path)"
   ]
  },
  {
   "cell_type": "markdown",
   "id": "0d303a99",
   "metadata": {},
   "source": [
    "### ファイル抽出"
   ]
  },
  {
   "cell_type": "code",
   "execution_count": 3,
   "id": "41967b31",
   "metadata": {},
   "outputs": [],
   "source": [
    "target_video =  \"58095_004022_Sideline\"\n",
    "ext_sub = sub[sub[\"video_frame\"].str.contains(target_video)]\n",
    "ext_labels = labels[labels[\"video_frame\"].str.contains(target_video)]"
   ]
  },
  {
   "cell_type": "code",
   "execution_count": 4,
   "id": "70b02b9d",
   "metadata": {},
   "outputs": [],
   "source": [
    "def evaluate(sub,labels):\n",
    "    scorer = NFLAssignmentScorer(labels)\n",
    "    baseline_score = scorer.score(sub)\n",
    "    return baseline_score\n",
    "    "
   ]
  },
  {
   "cell_type": "code",
   "execution_count": 5,
   "id": "6be9bd2f",
   "metadata": {},
   "outputs": [
    {
     "data": {
      "text/plain": [
       "0.05314715359828142"
      ]
     },
     "execution_count": 5,
     "metadata": {},
     "output_type": "execute_result"
    }
   ],
   "source": [
    "evaluate(ext_sub,ext_labels)"
   ]
  },
  {
   "cell_type": "markdown",
   "id": "bfa2b7fe",
   "metadata": {},
   "source": [
    "## Deepsort"
   ]
  },
  {
   "cell_type": "markdown",
   "id": "6c0917be",
   "metadata": {},
   "source": [
    "### import及び関数定義"
   ]
  },
  {
   "cell_type": "code",
   "execution_count": 6,
   "id": "2b21f0b4",
   "metadata": {
    "hide_input": true
   },
   "outputs": [],
   "source": [
    "import numpy as np\n",
    "import pandas as pd\n",
    "import itertools\n",
    "import glob\n",
    "import os\n",
    "import cv2\n",
    "from sklearn.metrics import accuracy_score\n",
    "from tqdm.auto import tqdm\n",
    "from multiprocessing import Pool\n",
    "from matplotlib import pyplot as plt\n",
    "from sklearn.cluster import KMeans\n",
    "import random\n",
    "\n",
    "from external_lib.deep_sort_pytorch.utils.parser import get_config\n",
    "from external_lib.deep_sort_pytorch.deep_sort import DeepSort"
   ]
  },
  {
   "cell_type": "code",
   "execution_count": 7,
   "id": "9077596a",
   "metadata": {
    "hide_input": true
   },
   "outputs": [],
   "source": [
    "def compute_color_for_id(label):\n",
    "    \"\"\"\n",
    "    Simple function that adds fixed color depending on the id\n",
    "    \"\"\"\n",
    "    palette = (2 ** 11 - 1, 2 ** 15 - 1, 2 ** 20 - 1)\n",
    "\n",
    "    color = [int((p * (label ** 2 - label + 1)) % 255) for p in palette]\n",
    "    return tuple(color)\n",
    "\n",
    "def plot_one_box(x, im, color=None, label=None, line_thickness=3):\n",
    "    # Plots one bounding box on image 'im' using OpenCV\n",
    "    assert im.data.contiguous, 'Image not contiguous. Apply np.ascontiguousarray(im) to plot_on_box() input image.'\n",
    "    tl = line_thickness or round(0.002 * (im.shape[0] + im.shape[1]) / 2) + 1  # line/font thickness\n",
    "    color = color or [random.randint(0, 255) for _ in range(3)]\n",
    "    c1, c2 = (int(x[0]), int(x[1])), (int(x[2]), int(x[3]))\n",
    "    cv2.rectangle(im, c1, c2, color, thickness=tl, lineType=cv2.LINE_AA)\n",
    "    if label: \n",
    "        tf = max(tl - 1, 1)  # font thickness\n",
    "        t_size = cv2.getTextSize(label, 0, fontScale=tl / 3, thickness=tf)[0]\n",
    "        c2 = c1[0] + t_size[0], c1[1] - t_size[1] - 3\n",
    "        cv2.rectangle(im, c1, c2, color, -1, cv2.LINE_AA)  # filled\n",
    "        cv2.putText(im, label, (c1[0], c1[1] - 2), 0, tl / 3, [225, 255, 255], thickness=tf, lineType=cv2.LINE_AA)\n",
    "    return im"
   ]
  },
  {
   "cell_type": "code",
   "execution_count": 8,
   "id": "b8e08d89",
   "metadata": {
    "hide_input": true
   },
   "outputs": [],
   "source": [
    "\n",
    "def deepsort_helmets(video_data,\n",
    "                     video_dir,\n",
    "                     deepsort_config='/work/config/deepsort.yaml',\n",
    "                     plot=False,\n",
    "                     plot_frames=[]):\n",
    "    \n",
    "    # Setup Deepsort\n",
    "    cfg = get_config()\n",
    "    cfg.merge_from_file(deepsort_config)    \n",
    "    deepsort = DeepSort(cfg.DEEPSORT.REID_CKPT,\n",
    "                        max_dist=cfg.DEEPSORT.MAX_DIST,\n",
    "                        min_confidence=cfg.DEEPSORT.MIN_CONFIDENCE,\n",
    "                        nms_max_overlap=cfg.DEEPSORT.NMS_MAX_OVERLAP,\n",
    "                        max_iou_distance=cfg.DEEPSORT.MAX_IOU_DISTANCE,\n",
    "                        max_age=cfg.DEEPSORT.MAX_AGE,\n",
    "                        n_init=cfg.DEEPSORT.N_INIT,\n",
    "                        nn_budget=cfg.DEEPSORT.NN_BUDGET,\n",
    "                        use_cuda=True)\n",
    "    \n",
    "    # Run through frames.\n",
    "    video_data = video_data.sort_values('frame').reset_index(drop=True)\n",
    "    ds = []\n",
    "    for frame, d in tqdm(video_data.groupby(['frame']), total=video_data['frame'].nunique()):\n",
    "        d['x'] = (d['left'] + round(d['width'] / 2))\n",
    "        d['y'] = (d['top'] + round(d['height'] / 2))\n",
    "\n",
    "        xywhs = d[['x','y','width','height']].values\n",
    "\n",
    "        cap = cv2.VideoCapture(f'{video_dir}/{myvideo}.mp4')\n",
    "        cap.set(cv2.CAP_PROP_POS_FRAMES, frame-1) # optional\n",
    "        \n",
    "        ##シーケンス\n",
    "        success, image = cap.read()\n",
    "        \n",
    "        # 画像の色の順番を変更（BGR to RGB）\n",
    "        image = cv2.cvtColor(image, cv2.COLOR_BGR2RGB)\n",
    "\n",
    "        confs = np.ones([len(d),])\n",
    "        clss =  np.zeros([len(d),])\n",
    "        \n",
    "        outputs = deepsort.update(xywhs, confs, clss, image)\n",
    "\n",
    " \n",
    "        preds_df = pd.DataFrame(outputs, columns=['left','top','right','bottom','deepsort_cluster','class'])\n",
    "        if len(preds_df) > 0:\n",
    "            # TODO Fix this messy merge\n",
    "            d = pd.merge_asof(d.sort_values(['left','top']),\n",
    "                              preds_df[['left','top','deepsort_cluster']] \\\n",
    "                              .sort_values(['left','top']), on='left', suffixes=('','_deepsort'),\n",
    "                              direction='nearest')\n",
    "        ds.append(d)\n",
    "    dout = pd.concat(ds)\n",
    "    return dout\n",
    "\n",
    "\n",
    "def add_deepsort_label_col(out):\n",
    "    # Find the top occuring label for each deepsort_cluster\n",
    "    sortlabel_map = out.groupby('deepsort_cluster')['label'].value_counts() \\\n",
    "        .sort_values(ascending=False).to_frame() \\\n",
    "        .rename(columns={'label':'label_count'}) \\\n",
    "        .reset_index() \\\n",
    "        .groupby(['deepsort_cluster']) \\\n",
    "        .first()['label'].to_dict()\n",
    "    # Find the # of times that label appears for the deepsort_cluster.\n",
    "    sortlabelcount_map = out.groupby('deepsort_cluster')['label'].value_counts() \\\n",
    "        .sort_values(ascending=False).to_frame() \\\n",
    "        .rename(columns={'label':'label_count'}) \\\n",
    "        .reset_index() \\\n",
    "        .groupby(['deepsort_cluster']) \\\n",
    "        .first()['label_count'].to_dict()\n",
    "    \n",
    "    out['label_deepsort'] = out['deepsort_cluster'].map(sortlabel_map)\n",
    "    out['label_count_deepsort'] = out['deepsort_cluster'].map(sortlabelcount_map)\n",
    "\n",
    "    return out\n",
    "\n",
    "\n",
    "def score_vs_deepsort(myvideo, out, labels):\n",
    "    # Score the base predictions compared to the deepsort postprocessed predictions.\n",
    "    myvideo_mp4 = myvideo + '.mp4'\n",
    "    labels_video = labels.query('video == @myvideo_mp4')\n",
    "    scorer = NFLAssignmentScorer(labels_video)\n",
    "    out_deduped = out.groupby(['video_frame','label']).first().reset_index()\n",
    "    base_video_score = scorer.score(out_deduped)\n",
    "    \n",
    "    out_preds = out.drop('label', axis=1).rename(columns={'label_deepsort':'label'})\n",
    "    print(out_preds.shape)\n",
    "    out_preds = out_preds.groupby(['video_frame','label']).first().reset_index()\n",
    "    print(out_preds.shape)\n",
    "    deepsort_video_score = scorer.score(out_preds)\n",
    "    print(f'{base_video_score:0.5f} before --> {deepsort_video_score:0.5f} deepsort')"
   ]
  },
  {
   "cell_type": "markdown",
   "id": "2db39a82",
   "metadata": {},
   "source": [
    "### main関数"
   ]
  },
  {
   "cell_type": "code",
   "execution_count": 9,
   "id": "f8603e36",
   "metadata": {
    "scrolled": false
   },
   "outputs": [
    {
     "data": {
      "application/vnd.jupyter.widget-view+json": {
       "model_id": "0c5d14a31fc14faf8c83289eadca5760",
       "version_major": 2,
       "version_minor": 0
      },
      "text/plain": [
       "  0%|          | 0/1 [00:00<?, ?it/s]"
      ]
     },
     "metadata": {},
     "output_type": "display_data"
    },
    {
     "data": {
      "application/vnd.jupyter.widget-view+json": {
       "model_id": "78d28e3df8534236bc0a49ddf2728ed3",
       "version_major": 2,
       "version_minor": 0
      },
      "text/plain": [
       "  0%|          | 0/482 [00:00<?, ?it/s]"
      ]
     },
     "metadata": {},
     "output_type": "display_data"
    },
    {
     "name": "stdout",
     "output_type": "stream",
     "text": [
      "(9201, 14)\n",
      "(6709, 14)\n",
      "0.05315 before --> 0.05942 deepsort\n"
     ]
    }
   ],
   "source": [
    "# Add video and frame columns to submission.\n",
    "submission_df = ext_sub;\n",
    "debug = True\n",
    "\n",
    "base_dir = \"/work/data/input/nfl-health-and-safety-helmet-assignment\"\n",
    "\n",
    "submission_df['video'] = submission_df['video_frame'].str.split('_').str[:3].str.join('_')\n",
    "submission_df['frame'] = submission_df['video_frame'].str.split('_').str[-1].astype('int')\n",
    "\n",
    "labels = pd.read_csv(f\"{base_dir}/train_labels.csv\")\n",
    "\n",
    "if debug:\n",
    "    video_dir = f\"{base_dir}/train/\"\n",
    "else:\n",
    "    video_dir = f\"{base_dir}/test/\"\n",
    "\n",
    "    \n",
    "    \n",
    "\n",
    "# Loop through test videos and apply. If in debug mode show the score change.\n",
    "outs = []\n",
    "for myvideo, video_data in tqdm(submission_df.groupby('video'), total=submission_df['video'].nunique()):\n",
    "    #print(myvideo)\n",
    "    #print(f'==== {myvideo} ====')\n",
    "    \n",
    "    \n",
    "    if debug:\n",
    "        # Plot deepsort labels when in debug mode.\n",
    "        out = deepsort_helmets(video_data, video_dir, plot_frames=[10, 150, 250])\n",
    "    else:\n",
    "        out = deepsort_helmets(video_data, video_dir)        \n",
    "    out = add_deepsort_label_col(out)\n",
    "    \n",
    "    outs.append(out)\n",
    "    if debug:        \n",
    "        score_vs_deepsort(myvideo, out, labels)\n",
    "        \n",
    "    break;\n",
    "        \n",
    "    \n",
    "submission_deepsort = pd.concat(outs).copy()"
   ]
  },
  {
   "cell_type": "code",
   "execution_count": 10,
   "id": "225aa445",
   "metadata": {},
   "outputs": [],
   "source": [
    "ext_deepsort = submission_deepsort.drop('label', axis=1).rename(columns={'label_deepsort':'label'}).groupby(['video_frame','label']).first().reset_index()"
   ]
  },
  {
   "cell_type": "markdown",
   "id": "2d444e6e",
   "metadata": {},
   "source": [
    "## deepsortとオリジナルの推定結果の結合\n",
    "deepsortのmain関数は一部レコードを削除するため、削除したものはdeepsort実施前のものを追加する。<br>\n",
    "しかしその場合、同一フレーム内の異なるヘルメットに同じプレイヤーが割り当てられる。<br>\n",
    "それを避けるため、deepsortの方を信頼する。"
   ]
  },
  {
   "cell_type": "markdown",
   "id": "643f4572",
   "metadata": {},
   "source": [
    "### function difinication"
   ]
  },
  {
   "cell_type": "code",
   "execution_count": 11,
   "id": "403c3217",
   "metadata": {},
   "outputs": [],
   "source": [
    "from external_lib.postprocess.merge_deepsort_original import merge_base_and_deepsort\n",
    "            "
   ]
  },
  {
   "cell_type": "code",
   "execution_count": 12,
   "id": "0bd4a0d8",
   "metadata": {
    "scrolled": false
   },
   "outputs": [],
   "source": [
    "Union_sub = merge_base_and_deepsort(ext_sub,ext_deepsort,erase_duplicated=False,random_allocation=True);\n",
    "#Union_sub = merge_base_and_deepsort(ext_sub,ext_deepsort,erase_duplicated=False,random_allocation=True);\n",
    "Union_sub = Union_sub.reset_index(drop=True)"
   ]
  },
  {
   "cell_type": "code",
   "execution_count": 13,
   "id": "2762d4e4",
   "metadata": {},
   "outputs": [
    {
     "data": {
      "text/plain": [
       "0.06083780880773362"
      ]
     },
     "execution_count": 13,
     "metadata": {},
     "output_type": "execute_result"
    }
   ],
   "source": [
    "evaluate(Union_sub,ext_labels)"
   ]
  },
  {
   "cell_type": "markdown",
   "id": "15a1ea25",
   "metadata": {},
   "source": [
    "## 時間的要素による後処理\n",
    "\n",
    "\n",
    "瞬間移動をなくす"
   ]
  },
  {
   "cell_type": "markdown",
   "id": "f29259e8",
   "metadata": {},
   "source": [
    "### 事前準備"
   ]
  },
  {
   "cell_type": "markdown",
   "id": "2d76f0c3",
   "metadata": {},
   "source": [
    "columns = Union_sub.columns"
   ]
  },
  {
   "cell_type": "markdown",
   "id": "e3fe275b",
   "metadata": {},
   "source": [
    "Union_sub[\"x\"] = Union_sub[\"left\"]  + Union_sub[\"width\"]/2\n",
    "Union_sub[\"y\"] = Union_sub[\"top\"]  + Union_sub[\"height\"]/2\n",
    "Union_sub[\"xy\"] = [ np.array([x,y]) for x,y in zip(Union_sub[\"x\"],Union_sub[\"y\"])] \n",
    "\n",
    "Union_sub_pivot_df =  Union_sub.pivot(index = \"frame\",columns=\"label\",values = \"xy\")"
   ]
  },
  {
   "cell_type": "markdown",
   "id": "c65d6b38",
   "metadata": {},
   "source": [
    "### 前後関係の処理"
   ]
  },
  {
   "cell_type": "markdown",
   "id": "d5399ef7",
   "metadata": {},
   "source": [
    "prev_Union_sub_pivot_df = Union_sub_pivot_df.shift(1)\n",
    "dif_pivot_df = Union_sub_pivot_df -  prev_Union_sub_pivot_df\n",
    "\n",
    "player_cols = []\n",
    "distance_cols = [];\n",
    "exchangeflag_cols = [];\n",
    "\n",
    "for col in dif_pivot_df.columns:                \n",
    "    dif_pivot_df[col+\"_distance_bet_prev\"] = dif_pivot_df[col].apply(lambda x:np.linalg.norm(x) if type(x) == np.ndarray else -1).fillna(-1)    \n",
    "    dif_pivot_df[col + \"_exchangeflag\"] = dif_pivot_df[col+\"_distance_bet_prev\"]>15\n",
    "    \n",
    "    exchangeflag_cols.append(col + \"_exchangeflag\")\n",
    "    distance_cols.append(col+\"_distance_bet_prev\")\n",
    "    \n",
    "    \n",
    "dif_pivot_df[\"isOK\"] = dif_pivot_df[exchangeflag_cols].sum(axis=1)\n",
    "    \n",
    "\n",
    "added_union_sub_pivot_df = Union_sub_pivot_df.add_suffix(\"_current_pos\")\n",
    "added_prev_Union_sub_pivot_df = prev_Union_sub_pivot_df.add_suffix(\"_prev_pos\")\n",
    "dif_pivot_df = pd.concat([dif_pivot_df,added_union_sub_pivot_df,added_prev_Union_sub_pivot_df],axis=1)"
   ]
  },
  {
   "cell_type": "markdown",
   "id": "091c1771",
   "metadata": {
    "scrolled": false
   },
   "source": [
    "%%time\n",
    "def find_replaced_label():\n",
    "    \n",
    "    \n",
    "    pd_list = []\n",
    "    before_series = None;\n",
    "    change_hashmap_list =[]\n",
    "    for index,each_series in dif_pivot_df.iterrows():        \n",
    "\n",
    "        Leap_counts = each_series[\"isOK\"]\n",
    "\n",
    "        if (Leap_counts < 2):\n",
    "            pass;\n",
    "        elif(Leap_counts >= 2):\n",
    "            change_hashmap = exchange_player_allocation(each_series,before_series,False);\n",
    "            change_hashmap_list.append([index,change_hashmap])\n",
    "        else:\n",
    "            raise Exception(\"unexpected error has occurred\");\n",
    "\n",
    "        before_series = each_series;\n",
    "\n",
    "    \n",
    "    \n",
    "\n",
    "\n",
    "\n",
    "\n"
   ]
  },
  {
   "cell_type": "markdown",
   "id": "12fcc4f8",
   "metadata": {},
   "source": [
    "#### グラフ出力"
   ]
  },
  {
   "cell_type": "markdown",
   "id": "e0c1699a",
   "metadata": {
    "scrolled": false
   },
   "source": [
    "change_target = change_hashmap_list.copy()\n",
    "pd_list = [];\n",
    "\n",
    "for key,each_df in Union_sub.copy().groupby(\"frame\"):\n",
    "    ind = key+1;\n",
    "    \n",
    "    if ( (len(change_target) > 0) and change_target[0][0] ==  ind ):\n",
    "        s = change_target.pop(0)\n",
    "        \n",
    "        modified = each_df.replace({\"label\":s[1]})\n",
    "        modified[\"label\"] = modified[\"label\"].str.replace(\"_______\",\"\")\n",
    "        pd_list.append(modified)\n",
    "    else:\n",
    "        pd_list.append(each_df)\n",
    "        \n",
    "    \n",
    "    \n",
    "modifiued_df = pd.concat(pd_list)"
   ]
  },
  {
   "cell_type": "markdown",
   "id": "4bacdce3",
   "metadata": {},
   "source": [
    "\n",
    "evaluate(modifiued_df,ext_labels)"
   ]
  },
  {
   "cell_type": "markdown",
   "id": "4d8e1e27",
   "metadata": {},
   "source": [
    "### 関数定義"
   ]
  },
  {
   "cell_type": "code",
   "execution_count": 14,
   "id": "06a6dcf7",
   "metadata": {
    "scrolled": false
   },
   "outputs": [],
   "source": [
    "from external_lib.postprocess.remove_leap import remove_leap\n",
    "sub=Union_sub.copy();\n",
    "#sub = ext_sub.copy();\n",
    "for i in range(1):\n",
    "    s = remove_leap(sub,parameter=20)\n",
    "    s._prepare();    \n",
    "    sub = s.execute()\n",
    "    \n",
    "    #print(evaluate(sub,ext_labels))\n"
   ]
  },
  {
   "cell_type": "code",
   "execution_count": 15,
   "id": "cd1ab418",
   "metadata": {},
   "outputs": [
    {
     "data": {
      "text/plain": [
       "0       58095_004022_Sideline\n",
       "1       58095_004022_Sideline\n",
       "2       58095_004022_Sideline\n",
       "3       58095_004022_Sideline\n",
       "4       58095_004022_Sideline\n",
       "                ...          \n",
       "7995    58095_004022_Sideline\n",
       "7996    58095_004022_Sideline\n",
       "7997    58095_004022_Sideline\n",
       "7998    58095_004022_Sideline\n",
       "7999    58095_004022_Sideline\n",
       "Name: video, Length: 9201, dtype: object"
      ]
     },
     "execution_count": 15,
     "metadata": {},
     "output_type": "execute_result"
    }
   ],
   "source": [
    "sub[\"video\"]"
   ]
  },
  {
   "cell_type": "markdown",
   "id": "19af4826",
   "metadata": {},
   "source": [
    "### K-means"
   ]
  },
  {
   "cell_type": "code",
   "execution_count": 16,
   "id": "e24e1ad5",
   "metadata": {},
   "outputs": [
    {
     "ename": "NameError",
     "evalue": "name 'noglobal' is not defined",
     "output_type": "error",
     "traceback": [
      "\u001b[0;31m---------------------------------------------------------------------------\u001b[0m",
      "\u001b[0;31mNameError\u001b[0m                                 Traceback (most recent call last)",
      "\u001b[0;32m/tmp/ipykernel_1794221/2958200212.py\u001b[0m in \u001b[0;36m<module>\u001b[0;34m\u001b[0m\n\u001b[0;32m----> 1\u001b[0;31m \u001b[0;34m@\u001b[0m\u001b[0mnoglobal\u001b[0m\u001b[0;34m(\u001b[0m\u001b[0;34m)\u001b[0m\u001b[0;34m\u001b[0m\u001b[0;34m\u001b[0m\u001b[0m\n\u001b[0m\u001b[1;32m      2\u001b[0m \u001b[0;32mdef\u001b[0m \u001b[0mextract_pixel\u001b[0m\u001b[0;34m(\u001b[0m\u001b[0mimg\u001b[0m\u001b[0;34m,\u001b[0m\u001b[0mbox\u001b[0m\u001b[0;34m)\u001b[0m\u001b[0;34m:\u001b[0m\u001b[0;34m\u001b[0m\u001b[0;34m\u001b[0m\u001b[0m\n\u001b[1;32m      3\u001b[0m     \u001b[0;31m#left = box[0]\u001b[0m\u001b[0;34m\u001b[0m\u001b[0;34m\u001b[0m\u001b[0;34m\u001b[0m\u001b[0m\n\u001b[1;32m      4\u001b[0m     \u001b[0;31m#right = box[2]\u001b[0m\u001b[0;34m\u001b[0m\u001b[0;34m\u001b[0m\u001b[0;34m\u001b[0m\u001b[0m\n\u001b[1;32m      5\u001b[0m \u001b[0;34m\u001b[0m\u001b[0m\n",
      "\u001b[0;31mNameError\u001b[0m: name 'noglobal' is not defined"
     ]
    }
   ],
   "source": [
    "@noglobal()\n",
    "def extract_pixel(img,box):\n",
    "    #left = box[0]\n",
    "    #right = box[2]\n",
    "    \n",
    "    #upper = box[1]\n",
    "    #lower = box[3]\n",
    "    \n",
    "    left = int(box[0] + (box[2] - box[0])*2/6)\n",
    "    right = int(box[0] + (box[2] - box[0])*4/6)\n",
    "    \n",
    "    upper = int(box[1] + (box[3] - box[1])*2/6)\n",
    "    lower = int(box[1] + (box[3] - box[1])*4/6)\n",
    "    \n",
    "    ret_list = []\n",
    "    for x in range(left,right):\n",
    "        for y in range(upper,lower):\n",
    "            ret_list.append(img[y,x])\n",
    "            \n",
    "    \n",
    "    return np.mean(ret_list,axis=0).tolist()\n",
    "    "
   ]
  },
  {
   "cell_type": "code",
   "execution_count": null,
   "id": "7328072f",
   "metadata": {},
   "outputs": [],
   "source": [
    "from lib.noglobal import noglobal\n",
    "\n",
    "@noglobal()\n",
    "def add_team_label(sub):\n",
    "    video_dir = \"/work/data/input/nfl-health-and-safety-helmet-assignment/train\"\n",
    "    myvideo = \"57583_000082_Endzone\"\n",
    "    video_data = sub.sort_values('frame').reset_index(drop=True)\n",
    "\n",
    "\n",
    "    ds = []\n",
    "    cap = cv2.VideoCapture(f'{video_dir}/{myvideo}.mp4')\n",
    "    for frame, d in tqdm(video_data.groupby(['frame']), total=video_data['frame'].nunique()):\n",
    "            \n",
    "        d['x'] = (d['left'] + round(d['width'] / 2))\n",
    "        d['y'] = (d['top'] + round(d['height'] / 2))\n",
    "        d[\"right\"] = (d['left'] + round(d['width']))\n",
    "        d[\"bottom\"] = (d['top'] + round(d['height']))\n",
    "\n",
    "        xywhs = d[['x','y','width','height']].values\n",
    "\n",
    "        \n",
    "        cap.set(cv2.CAP_PROP_POS_FRAMES, frame-1) # optional\n",
    "\n",
    "        ##シーケンス\n",
    "        success, image = cap.read()\n",
    "\n",
    "        # 画像の色の順番を変更（BGR to RGB）\n",
    "        image = cv2.cvtColor(image, cv2.COLOR_BGR2RGB)\n",
    "\n",
    "\n",
    "        pixel_value_list=[]\n",
    "        for index,row in d.iterrows():\n",
    "            bboxes = row[[\"left\",\"top\",\"right\",\"bottom\"]].values                \n",
    "            pixel_value_list.append(extract_pixel(image,bboxes))\n",
    "\n",
    "        pixel_value_list_numpy = np.array(pixel_value_list)\n",
    "\n",
    "        d[\"average_pixel_r\"] = pixel_value_list_numpy[:,0]\n",
    "        d[\"average_pixel_g\"] = pixel_value_list_numpy[:,1]\n",
    "        d[\"average_pixel_b\"] = pixel_value_list_numpy[:,2]\n",
    "        d[\"frame\"] = frame\n",
    "        ds.append(d)\n",
    "        \n",
    "    \n",
    "    \n",
    "    ret_df = pd.concat(ds);\n",
    "    pixel_value_list_numpy = ret_df[[\"average_pixel_r\",\"average_pixel_g\",\"average_pixel_b\"]].values\n",
    "    \n",
    "    kmeans = KMeans(n_clusters=2, max_iter=100000, init='scalable-k-means++')    \n",
    "    b = kmeans.fit(pixel_value_list_numpy)\n",
    "    ret_df[\"team\"] = kmeans.labels_\n",
    "    \n",
    "    return ret_df\n",
    "    "
   ]
  },
  {
   "cell_type": "code",
   "execution_count": null,
   "id": "781e3998",
   "metadata": {},
   "outputs": [],
   "source": [
    "a = add_team_label(sub)"
   ]
  },
  {
   "cell_type": "code",
   "execution_count": null,
   "id": "5cf42539",
   "metadata": {},
   "outputs": [],
   "source": []
  }
 ],
 "metadata": {
  "kernelspec": {
   "display_name": "Python 3 (ipykernel)",
   "language": "python",
   "name": "python3"
  },
  "language_info": {
   "codemirror_mode": {
    "name": "ipython",
    "version": 3
   },
   "file_extension": ".py",
   "mimetype": "text/x-python",
   "name": "python",
   "nbconvert_exporter": "python",
   "pygments_lexer": "ipython3",
   "version": "3.7.10"
  },
  "toc": {
   "base_numbering": 1,
   "nav_menu": {},
   "number_sections": true,
   "sideBar": true,
   "skip_h1_title": false,
   "title_cell": "Table of Contents",
   "title_sidebar": "Contents",
   "toc_cell": false,
   "toc_position": {},
   "toc_section_display": true,
   "toc_window_display": false
  }
 },
 "nbformat": 4,
 "nbformat_minor": 5
}
